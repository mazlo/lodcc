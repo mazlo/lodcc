{
 "cells": [
  {
   "cell_type": "code",
   "execution_count": 142,
   "metadata": {},
   "outputs": [],
   "source": [
    "from graph_tool.all import *\n",
    "import numpy as np\n",
    "import datetime\n",
    "\n",
    "def D_example():\n",
    "    D=Graph()\n",
    "    \n",
    "    v1 = D.add_vertex()\n",
    "    v2 = D.add_vertex()\n",
    "    v3 = D.add_vertex()\n",
    "    v4 = D.add_vertex()\n",
    "    v5 = D.add_vertex()\n",
    "    v6 = D.add_vertex()\n",
    "    v7 = D.add_vertex()\n",
    "    v8 = D.add_vertex()\n",
    "    \n",
    "    e1 = D.add_edge( v1, v2 )\n",
    "    e2 = D.add_edge( v1, v3 )\n",
    "    e3 = D.add_edge( v1, v4 )\n",
    "    e4 = D.add_edge( v1, v5 )\n",
    "    e5 = D.add_edge( v6, v5 )\n",
    "    e6 = D.add_edge( v7, v5 )\n",
    "    e7 = D.add_edge( v5, v8 )\n",
    "\n",
    "    prop_v = D.new_vertex_property( 'string' )\n",
    "    prop_e = D.new_edge_property( 'string' )\n",
    "    \n",
    "    D.vertex_properties['name'] = prop_v\n",
    "    D.edge_properties['c0'] = prop_e\n",
    "    \n",
    "    prop_v[v1] = '/John'\n",
    "    prop_v[v2] = 'john@example.org'\n",
    "    prop_v[v3] = 'john@doe.org'\n",
    "    prop_v[v4] = '/Researcher'\n",
    "    prop_v[v5] = '/Rome'\n",
    "    prop_v[v6] = '/Giacomo'\n",
    "    prop_v[v7] = '/Piero'\n",
    "    prop_v[v8] = '\"Roma\"@it'\n",
    "    \n",
    "    prop_e[e1] = 'foaf:mbox'\n",
    "    prop_e[e2] = 'foaf:mbox'\n",
    "    prop_e[e3] = 'rdf:type'\n",
    "    prop_e[e4] = 'ex:birthPlace'\n",
    "    prop_e[e5] = 'ex:areaOfWork'\n",
    "    prop_e[e6] = 'ex:areaOfWork'\n",
    "    prop_e[e7] = 'foaf:name'\n",
    "    \n",
    "    return D\n",
    "\n",
    "D=load_graph( '/Users/matthaeus/Projects/lodcc/dumps/rkb-explorer-newcastle/data.graph.gt.gz' )\n",
    "#D=D_example()"
   ]
  },
  {
   "cell_type": "code",
   "execution_count": 171,
   "metadata": {},
   "outputs": [
    {
     "name": "stdout",
     "output_type": "stream",
     "text": [
      "Number of subjects: 5494\n",
      "Number of objects: 15267\n"
     ]
    },
    {
     "data": {
      "text/plain": [
       "array([1, 0, 0, ..., 1, 0, 0], dtype=uint64)"
      ]
     },
     "execution_count": 171,
     "metadata": {},
     "output_type": "execute_result"
    }
   ],
   "source": [
    "# =========\n",
    "# CAUTION\n",
    "# please keep in mind that YOU CANNOT work with the vertice's and edge's index, 'cause it's a unique integer.\n",
    "# you have to work with the vertice's and edge's label in all operations\n",
    "# =========\n",
    "#\n",
    "# This notebook shows the implementation of the metrics in python\n",
    "#\n",
    "\n",
    "D.set_vertex_filter(None)\n",
    "D.set_edge_filter(None)\n",
    "\n",
    "prop_s = D.new_vertex_property( 'bool', val=False )\n",
    "prop_o = D.new_vertex_property( 'bool', val=False )\n",
    "\n",
    "D.vertex_properties['subject'] = prop_s\n",
    "D.vertex_properties['object'] = prop_o\n",
    "\n",
    "for v in D.vertices():\n",
    "    if v.out_degree() > 0:\n",
    "        prop_s[v] = True\n",
    "\n",
    "    if v.in_degree() > 0:\n",
    "        prop_o[v] = True\n",
    "\n",
    "S = GraphView( D, vfilt=prop_s )\n",
    "O = GraphView( D, vfilt=prop_o )\n",
    "\n",
    "print( \"Number of subjects: %s\" % S.num_vertices() )\n",
    "print( \"Number of objects: %s\" % O.num_vertices() )"
   ]
  },
  {
   "cell_type": "code",
   "execution_count": 185,
   "metadata": {},
   "outputs": [
    {
     "name": "stdout",
     "output_type": "stream",
     "text": [
      "(3) out-degree. max: 570, mean: 10.566072\n",
      "(7) in-degree. max: 4692, mean: 3.802319\n"
     ]
    }
   ],
   "source": [
    "# the number of triples in G in which s occurs as subject\n",
    "l = np.array( [ s.out_degree() for s in D.vertices() if D.vp.subject[s] ] )\n",
    "print( \"(3) out-degree. max: %s, mean: %f\" % ( l.max(), l.mean() ) )\n",
    "\n",
    "# the number of triples in G, in which o occurs as object\n",
    "l = np.array( [ o.in_degree() for o in D.vertices() if D.vp.object[o] ] )\n",
    "print( \"(7) in-degree. max: %s, mean: %f\" % ( l.max(), l.mean() ) )\n"
   ]
  },
  {
   "cell_type": "code",
   "execution_count": 186,
   "metadata": {},
   "outputs": [
    {
     "name": "stdout",
     "output_type": "stream",
     "text": [
      "(4) partial out-degree. max: 190, mean: 1.868542\n",
      "(5) labelled out-degree. max: 13, mean: 5.654714\n",
      "(6) direct out-degree. max: 29, mean: 6.456680\n"
     ]
    }
   ],
   "source": [
    "# SUBJECT OUT-DEGREES\n",
    "\n",
    "D.set_edge_filter(None)\n",
    "D.set_edge_filter( prop_p_s )\n",
    "\n",
    "# the number of triples of G, in which s occurs as subject and p as predicate\n",
    "## e.g. l = ['/John_foaf:mbox', '/John_foaf:mbox', '/John_rdf:type', '/John_ex:birthPlace', '/Rome_foaf:name', '/Giacomo_ex:areaOfWork', '/Piero_ex:areaOfWork']\n",
    "l = [ (D.vp.name[p.source()],D.ep.c0[p]) for p in D.edges() ]\n",
    "_, counts = np.unique( l, return_counts=True, axis=0 )\n",
    "print( \"(4) partial out-degree. max: %s, mean: %f\" % ( np.max( counts ), np.mean( counts ) ) )\n",
    "\n",
    "# the number of different predicates (labels) of G with which s is related as a subject\n",
    "## e.g. l = [ ['foaf:mbox', 'foaf:mbox', 'rdf:type', 'ex:birthPlace'], ['foaf:name'], ['ex:areaOfWork'], ['ex:areaOfWork'] ]\n",
    "l = np.array( [ len( { D.ep.c0[p] for p in s.out_edges() } ) for s in D.vertices() if D.vp.subject[s] ] )\n",
    "print( \"(5) labelled out-degree. max: %s, mean: %f\" % ( l.max(), l.mean() ) )\n",
    "\n",
    "# the number of different objects of G with which s is related as a subject\n",
    "## e.g. l = [ ['john@example.org', 'john@doe.org', '/Researcher', '/Rome'], ['\"Roma\"@it'], ['/Rome'], ['/Rome'] ]\n",
    "l = np.array( [ len( { D.vp.name[p.target()] for p in s.out_edges() } ) for s in D.vertices() if D.vp.subject[s] ] )\n",
    "print( \"(6) direct out-degree. max: %s, mean: %f\" % ( l.max(), l.mean() ) )"
   ]
  },
  {
   "cell_type": "code",
   "execution_count": 187,
   "metadata": {},
   "outputs": [
    {
     "name": "stdout",
     "output_type": "stream",
     "text": [
      "(8) partial in-degree. max: 4692, mean: 3.7116368286445014\n",
      "(9) labelled in-degree. max: 4, mean: 1.024431780965481\n",
      "(10) direct in-degree. max: 2017, mean: 2.323508220344534\n"
     ]
    }
   ],
   "source": [
    "# OBJECT IN-DEGREES\n",
    "\n",
    "# the number of triples of G, in which s occurs as subject and p as predicate\n",
    "## e.g. l = ['foaf:mbox_john@example.org', 'foaf:mbox_john@doe.org', 'rdf:type_/Researcher', 'ex:areaOfWork_/Rome', 'ex:areaOfWork_/Rome', 'ex:birthPlace_/Rome', 'foaf:name_\"Roma\"@it']\n",
    "l = [ \"%s_%s\" % (D.ep.c0[p],D.vp.name[o]) for o in D.vertices() if D.vp.object[o] for p in o.in_edges() ]\n",
    "unique, l = np.unique( l, return_counts=True )\n",
    "print( \"(8) partial in-degree. max: %s, mean: %s\" % ( np.max( l ), np.mean( l ) ) )\n",
    "\n",
    "# the number of different predicates (labels) of G with which s is related as a subject\n",
    "## e.g. l = [ ['foaf:mbox'],['foaf:mbox'],['rdf:type'],['ex:areaOfWork', 'ex:areaOfWork', 'ex:birthPlace'],['foaf:name'] ]\n",
    "l = np.array( [ len( { D.ep.c0[p] for p in o.in_edges() } ) \n",
    "               for o in D.vertices() \n",
    "               if D.vp.object[o] ] )\n",
    "print( \"(9) labelled in-degree. max: %s, mean: %s\" % ( l.max(), l.mean() ) )\n",
    "\n",
    "# the number of different objects of G with which s is related as a subject\n",
    "## e.g. l = [ ['john@example.org'], ['john@doe.org'], ['/Researcher'], ['/Rome', '/Rome', '/Rome'], ['\"Roma\"@it'] ]\n",
    "l = np.array( [ len( { D.vp.name[p.source()] for p in o.in_edges() } ) \n",
    "               for o in D.vertices() \n",
    "               if D.vp.object[o] ] )\n",
    "print( \"(10) direct in-degree. max: %s, mean: %s\" % ( l.max(), l.mean() ) )"
   ]
  },
  {
   "cell_type": "code",
   "execution_count": 188,
   "metadata": {},
   "outputs": [
    {
     "name": "stdout",
     "output_type": "stream",
     "text": [
      "(11) predicate degree. max: 12191, mean: 1488.4615384615386\n",
      "(12) predicate in-degree. max: 190, mean: 1.8685421830237874\n",
      "(13) predicate out-degree. max: 4692, mean: 3.7116368286445014\n"
     ]
    }
   ],
   "source": [
    "# PREDICATE DEGREES\n",
    "\n",
    "## the number of triples of graph G, in which p occurs as predicate\n",
    "l = [ \"%s\" % D.ep.c0[p] for p in D.edges() ]\n",
    "unique, l = np.unique( l, return_counts=True )\n",
    "print( \"(11) predicate degree. max: %s, mean: %s\" % ( np.max(l), np.mean(l) ) )\n",
    "\n",
    "## the number of different subjects of G with which p is related as a predicate in a triple of G\n",
    "l = [ \"%s_%s\" % (D.vp.name[p.source()],D.ep.c0[p]) for p in D.edges() ]\n",
    "unique, l = np.unique( l, return_counts=True )\n",
    "print( \"(12) predicate in-degree. max: %s, mean: %s\" % ( np.max(l), np.mean(l) ) )\n",
    "\n",
    "## the number of different objects of G with which p is related as a predicate in a triple of G\n",
    "l = [ \"%s_%s\" % (D.ep.c0[p],D.vp.name[p.target()]) for p in D.edges() ]\n",
    "unique, l = np.unique( l, return_counts=True )\n",
    "print( \"(13) predicate out-degree. max: %s, mean: %s\" % ( np.max(l), np.mean(l) ) )"
   ]
  },
  {
   "cell_type": "code",
   "execution_count": 189,
   "metadata": {},
   "outputs": [
    {
     "name": "stdout",
     "output_type": "stream",
     "text": [
      "(14) subject-object ratio: 0.15313263719173517\n",
      "(15) subject-predicate ratio: 0.0\n",
      "(16) predicate-object ratio: 0.0\n"
     ]
    }
   ],
   "source": [
    "# COMMON RATIOS\n",
    "\n",
    "## the number of elements acting both as subject and objects among all subjects and objects\n",
    "nom_intersection = len( { D.vp.name[s] for s in S.vertices() } & { D.vp.name[o] for o in O.vertices() } )\n",
    "denom_union = len( { D.vp.name[s] for s in S.vertices() } | { D.vp.name[o] for o in O.vertices() } )\n",
    "print( \"(14) subject-object ratio: %s\" % (float(nom_intersection) / denom_union) )\n",
    "\n",
    "## the number of elements acting both as subject and predicates among all subjects and predicates\n",
    "nom_intersection = len( { D.vp.name[s] for s in S.vertices() } & { D.ep.c0[p] for p in D.edges() } )\n",
    "denom_union = len( { D.vp.name[s] for s in S.vertices() } | { D.ep.c0[p] for p in D.edges() } )\n",
    "print( \"(15) subject-predicate ratio: %s\" % (float(nom_intersection) / denom_union) )\n",
    "\n",
    "## the number of elements acting both as predicates and objects among all predicates and objects\n",
    "nom_intersection = len( { D.ep.c0[p] for p in D.edges() } & { D.vp.name[o] for o in O.vertices() } )\n",
    "denom_union = len( { D.ep.c0[p] for p in D.edges() } | { D.vp.name[o] for o in O.vertices() } )\n",
    "print( \"(16) predicate-object ratio: %s\" % (float(nom_intersection) / denom_union) )"
   ]
  },
  {
   "cell_type": "code",
   "execution_count": 190,
   "metadata": {},
   "outputs": [
    {
     "name": "stdout",
     "output_type": "stream",
     "text": [
      "(Eq.15) subject-object out-degree. max: 570\n",
      "(Eq.16) subject-object out-degree. mean: 11.503083061298513\n"
     ]
    }
   ],
   "source": [
    "# SUBJECT-OBJECT DEGREES\n",
    "\n",
    "## the maximum out-degree of the graph G restricted to subject–objects\n",
    "l = np.array( [ v.out_degree() for v in D.vertices() if D.vp.subject[v] and D.vp.object[v] ] )\n",
    "print( \"(Eq.15) subject-object out-degree. max: %s\" % l.max() )\n",
    "print( \"(Eq.16) subject-object out-degree. mean: %s\" % l.mean() ) # i.e. (l.sum() / l.size)"
   ]
  },
  {
   "cell_type": "code",
   "execution_count": 191,
   "metadata": {},
   "outputs": [
    {
     "name": "stdout",
     "output_type": "stream",
     "text": [
      "(17) ratio of repeated predicate lists: 0.9767018565708045\n",
      "(18) predicate list-degree. max: 2012, mean: 42.921875\n"
     ]
    }
   ],
   "source": [
    "# PREDICATE LISTS\n",
    "\n",
    "## We denote as L_G to the set of different predicate lists in G\n",
    "L_G = [ np.unique( [ D.ep.c0[p] for p in s.out_edges() ] )\n",
    "                 for s in D.vertices() \n",
    "                 if D.vp.subject[s] ]\n",
    "L_G_max = np.max( list( map( lambda e: len(e), L_G ) ) )\n",
    "# np.unique works only on sets with same dimension. thus, we need to fill up all arrays with np.nan\n",
    "# to the size of L_G_max\n",
    "L_G = list( map( lambda L_s: np.append( L_s, np.full( L_G_max-len(L_s), np.nan ) ), L_G ) )\n",
    "\n",
    "## .. is defined as the ratio of repeated predicate lists from the total lists in the graph G\n",
    "L_G, counts = np.unique( L_G, return_counts=True, axis=0 )\n",
    "print( \"(17) ratio of repeated predicate lists: %s\" % (1 - ( len(L_G) / S.num_vertices() )) )\n",
    "\n",
    "## .. is defined as the number of different subjects in G whose list of predicates is exactly Ls\n",
    "print( \"(18) predicate list-degree. max: %s, mean: %s\" % ( np.max(counts), np.mean(counts) ) )\n",
    "\n",
    "## .. is defined as the number of different predicate lists in LG in which the predicate appears\n",
    "# TODO ZL\n",
    "# print( \"(19) lists per predicate degree. \")"
   ]
  },
  {
   "cell_type": "code",
   "execution_count": 193,
   "metadata": {},
   "outputs": [
    {
     "name": "stdout",
     "output_type": "stream",
     "text": [
      "Metric: number of different classes: 18\n",
      "Metric: number of typed subjects: 5494\n",
      "(20): ratio of typed subjects: 1.0\n",
      "Metric: degree of predicate lists for typed subjects\n"
     ]
    }
   ],
   "source": [
    "# TYPED SUBJECTS and CLASSES\n",
    "\n",
    "## number of all different classes\n",
    "C_G = { D.vp.name[p.target()] \n",
    "          for p in D.edges() \n",
    "          if D.ep.c0[p] == 'ae98476863dc6ec5' }  # ae98476863dc6ec5 = http://www.w3.org/1999/02/22-rdf-syntax-ns#type\n",
    "print( \"Metric: number of different classes: %s\" % ( len(C_G) ) )\n",
    "\n",
    "## number of all different typed subjects\n",
    "SC_G = { D.vp.name[p.source()] \n",
    "          for p in D.edges() \n",
    "          if D.ep.c0[p] == 'ae98476863dc6ec5' }  # ae98476863dc6ec5 = http://www.w3.org/1999/02/22-rdf-syntax-ns#type\n",
    "print( \"Metric: number of typed subjects: %s\" % ( len(SC_G) ) )\n",
    "print( \"(20): ratio of typed subjects: %s\" % ( len(SC_G) / S.num_vertices() ) )\n",
    "print( \"Metric: degree of predicate lists for typed subjects\")\n"
   ]
  }
 ],
 "metadata": {
  "kernelspec": {
   "display_name": "Python 3",
   "language": "python",
   "name": "python3"
  },
  "language_info": {
   "codemirror_mode": {
    "name": "ipython",
    "version": 3
   },
   "file_extension": ".py",
   "mimetype": "text/x-python",
   "name": "python",
   "nbconvert_exporter": "python",
   "pygments_lexer": "ipython3",
   "version": "3.7.2"
  }
 },
 "nbformat": 4,
 "nbformat_minor": 2
}
